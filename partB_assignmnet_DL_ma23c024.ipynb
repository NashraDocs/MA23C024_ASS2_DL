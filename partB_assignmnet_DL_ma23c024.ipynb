{
 "cells": [
  {
   "cell_type": "markdown",
   "id": "91901570",
   "metadata": {},
   "source": [
    "# Part B : Fine-tuning a pre-trained model\n",
    "Question 1 (5 Marks)"
   ]
  },
  {
   "cell_type": "markdown",
   "id": "780ec949",
   "metadata": {},
   "source": [
    "# Answer"
   ]
  },
  {
   "cell_type": "markdown",
   "id": "eb89865f",
   "metadata": {},
   "source": [
    "To address the difference in image sizes, I will resize all input images to 224×224 pixels, which is the standard input size for most models pre-trained on ImageNet. I will do this using torchvision transforms like\n",
    "\n",
    "transforms.Resize((224, 224))\n",
    "This ensures compatibility with the model architecture"
   ]
  },
  {
   "cell_type": "markdown",
   "id": "554881f2",
   "metadata": {},
   "source": [
    "This is necessary because pre-trained models expect a fixed input size."
   ]
  },
  {
   "cell_type": "markdown",
   "id": "5d8b75d4",
   "metadata": {},
   "source": [
    "# Q1.2: ImageNet has 1000 classes and hence the last layer of the pre-trained model would have 1000 nodes. However, the naturalist dataset has only 10 classes. How will you address this?\n",
    "\n",
    "Answer:\n",
    "\n",
    "I will replace the final classification layer of the pre-trained model with a new nn.Linear layer that outputs 10 classes instead of 1000. For example, for ResNet50:"
   ]
  },
  {
   "cell_type": "markdown",
   "id": "5f18ceef",
   "metadata": {},
   "source": [
    "model.fc = nn.Linear(in_features=2048, out_features=10)"
   ]
  },
  {
   "cell_type": "markdown",
   "id": "384d4f30",
   "metadata": {},
   "source": [
    "This allows the model to make predictions for the 10 classes in the naturalist dataset while keeping all other layers (and learned features) from pretraining."
   ]
  },
  {
   "cell_type": "markdown",
   "id": "eb52025f",
   "metadata": {},
   "source": [
    "This ensures the model outputs logits for only the classes present in our dataset"
   ]
  },
  {
   "cell_type": "markdown",
   "id": "0e30f432",
   "metadata": {},
   "source": [
    "# Question 2"
   ]
  },
  {
   "cell_type": "markdown",
   "id": "a5c6031c",
   "metadata": {},
   "source": [
    "Common Trick: Freezing layers\n",
    "\n",
    "Since pre-trained models are large, one common trick to reduce computation and make training tractable is to freeze some or all layers during training. Freezing a layer means we don’t update its weights (i.e., no backpropagation)."
   ]
  },
  {
   "cell_type": "markdown",
   "id": "b0115ea3",
   "metadata": {},
   "source": [
    "Three Strategies that I Tried\n",
    "\n",
    "\n",
    "1)Freeze all layers except the final classification layer\n",
    "→ Only the last layer (replaced to output 10 classes) is trainable. All other layers remain frozen.\n",
    "\n",
    "→ This is fast and works well when the new task is similar to the original.\n",
    "\n",
    "2)Freeze lower layers, fine-tune top k layers\n",
    "\n",
    "→ For example, freeze the first few blocks (which capture general patterns) and fine-tune only the last few blocks.\n",
    "\n",
    "→ This balances cost and accuracy.\n",
    "\n",
    "3)Unfreeze all layers and fine-tune the entire model\n",
    "\n",
    "→ This gives the best performance when the dataset is large or very different from ImageNet, but it’s most computationally expensive."
   ]
  },
  {
   "cell_type": "markdown",
   "id": "c9c16360",
   "metadata": {},
   "source": [
    "These strategies help leverage learned representations from ImageNet while adapting the model to the new domain with minimal computation."
   ]
  },
  {
   "cell_type": "markdown",
   "id": "bd410394",
   "metadata": {},
   "source": [
    "# I used the iNaturalist dataset from the previous question and applied each of the above strategies. Fine-tuning only the final layer was fastest, while unfreezing all layers gave better accuracy but took longer to train."
   ]
  },
  {
   "cell_type": "markdown",
   "id": "4ec3f291",
   "metadata": {},
   "source": [
    "# Implementation"
   ]
  },
  {
   "cell_type": "code",
   "execution_count": 1,
   "id": "71470f5d",
   "metadata": {},
   "outputs": [
    {
     "name": "stderr",
     "output_type": "stream",
     "text": [
      "c:\\Users\\Elitebook\\AppData\\Local\\Programs\\Python\\Python313\\Lib\\site-packages\\torchvision\\models\\_utils.py:208: UserWarning: The parameter 'pretrained' is deprecated since 0.13 and may be removed in the future, please use 'weights' instead.\n",
      "  warnings.warn(\n",
      "c:\\Users\\Elitebook\\AppData\\Local\\Programs\\Python\\Python313\\Lib\\site-packages\\torchvision\\models\\_utils.py:223: UserWarning: Arguments other than a weight enum or `None` for 'weights' are deprecated since 0.13 and may be removed in the future. The current behavior is equivalent to passing `weights=ResNet50_Weights.IMAGENET1K_V1`. You can also use `weights=ResNet50_Weights.DEFAULT` to get the most up-to-date weights.\n",
      "  warnings.warn(msg)\n"
     ]
    }
   ],
   "source": [
    "import torch\n",
    "import torch.nn as nn\n",
    "from torchvision import models, transforms, datasets\n",
    "from torch.utils.data import DataLoader\n",
    "import torch.optim as optim\n",
    "\n",
    "\n",
    "transformm = transforms.Compose([\n",
    "    transforms.Resize((224, 224)),\n",
    "    transforms.ToTensor()\n",
    "])\n",
    "\n",
    "\n",
    "train_data = datasets.ImageFolder(root='D:/nature_12K/inaturalist_12K/train', transform=transformm)\n",
    "train_loader = DataLoader(train_data, batch_size=32, shuffle=True)\n",
    "\n",
    "\n",
    "Model = models.resnet50(pretrained=True)\n",
    "num_classes = 10  \n",
    "Model.fc = nn.Linear(Model.fc.in_features, num_classes)  "
   ]
  },
  {
   "cell_type": "markdown",
   "id": "0ae6cd73",
   "metadata": {},
   "source": [
    "# Strategy 1: Freeze all layers except the last"
   ]
  },
  {
   "cell_type": "code",
   "execution_count": 2,
   "id": "aea7d4fa",
   "metadata": {},
   "outputs": [],
   "source": [
    "\n",
    "for paramt in Model.parameters():\n",
    "    paramt.requires_grad = False\n",
    "\n",
    "\n",
    "for paramt in Model.fc.parameters():\n",
    "    paramt.requires_grad = True"
   ]
  },
  {
   "cell_type": "markdown",
   "id": "29a5fd90",
   "metadata": {},
   "source": [
    "# Strategy 2: Unfreeze top k layers (e.g., last 2 layers)"
   ]
  },
  {
   "cell_type": "code",
   "execution_count": null,
   "id": "8c4a8980",
   "metadata": {},
   "outputs": [],
   "source": []
  },
  {
   "cell_type": "code",
   "execution_count": 3,
   "id": "3e1d653e",
   "metadata": {},
   "outputs": [],
   "source": [
    "for paramtr in Model.parameters():\n",
    "    paramtr.requires_grad = False\n",
    "\n",
    "\n",
    "ct = 0\n",
    "for name, child in Model.named_children():\n",
    "    ct += 1\n",
    "    if ct > 6: \n",
    "        for paramtr in child.parameters():\n",
    "            paramtr.requires_grad = True"
   ]
  },
  {
   "cell_type": "markdown",
   "id": "91d65ab3",
   "metadata": {},
   "source": [
    "# Strategy 3: Fine-tune entire model"
   ]
  },
  {
   "cell_type": "markdown",
   "id": "2d818066",
   "metadata": {},
   "source": [
    "Unfreeze all layers"
   ]
  },
  {
   "cell_type": "code",
   "execution_count": 4,
   "id": "45b1e3f6",
   "metadata": {},
   "outputs": [],
   "source": [
    "\n",
    "for paramtr in Model.parameters():\n",
    "    paramtr.requires_grad = True"
   ]
  },
  {
   "cell_type": "markdown",
   "id": "30f64bf3",
   "metadata": {},
   "source": [
    "# Question 3 (10 Marks)"
   ]
  },
  {
   "cell_type": "markdown",
   "id": "2cb4eda3",
   "metadata": {},
   "source": [
    "Freeze all layers except the last layer, and fine-tune only the final classification head."
   ]
  },
  {
   "cell_type": "code",
   "execution_count": null,
   "id": "b3dc8427",
   "metadata": {},
   "outputs": [
    {
     "name": "stderr",
     "output_type": "stream",
     "text": [
      "c:\\Users\\Elitebook\\AppData\\Local\\Programs\\Python\\Python313\\Lib\\site-packages\\torchvision\\models\\_utils.py:208: UserWarning: The parameter 'pretrained' is deprecated since 0.13 and may be removed in the future, please use 'weights' instead.\n",
      "  warnings.warn(\n",
      "c:\\Users\\Elitebook\\AppData\\Local\\Programs\\Python\\Python313\\Lib\\site-packages\\torchvision\\models\\_utils.py:223: UserWarning: Arguments other than a weight enum or `None` for 'weights' are deprecated since 0.13 and may be removed in the future. The current behavior is equivalent to passing `weights=ResNet50_Weights.IMAGENET1K_V1`. You can also use `weights=ResNet50_Weights.DEFAULT` to get the most up-to-date weights.\n",
      "  warnings.warn(msg)\n"
     ]
    },
    {
     "name": "stdout",
     "output_type": "stream",
     "text": [
      "Epoch 1/10, Loss: 336.1740, Train Acc: 0.6567\n",
      "Epoch 2/10, Loss: 259.6063, Train Acc: 0.7272\n",
      "Epoch 3/10, Loss: 242.4616, Train Acc: 0.7380\n",
      "Epoch 4/10, Loss: 237.3280, Train Acc: 0.7502\n",
      "Epoch 5/10, Loss: 228.9919, Train Acc: 0.7575\n",
      "Epoch 6/10, Loss: 225.9398, Train Acc: 0.7571\n",
      "Epoch 7/10, Loss: 229.5094, Train Acc: 0.7576\n",
      "Epoch 8/10, Loss: 217.0032, Train Acc: 0.7712\n",
      "Epoch 9/10, Loss: 211.7710, Train Acc: 0.7750\n",
      "Epoch 10/10, Loss: 211.2092, Train Acc: 0.7770\n",
      "Validation Accuracy: 0.7620\n"
     ]
    }
   ],
   "source": [
    "import torch\n",
    "import torch.nn as nn\n",
    "import torchvision.transforms as transforms\n",
    "import torchvision.datasets as datasets\n",
    "from torchvision import models\n",
    "from torch.utils.data import DataLoader\n",
    "import torch.optim as optim\n",
    "\n",
    "\n",
    "Transfrm = transforms.Compose([\n",
    "    transforms.Resize((224, 224)),  \n",
    "    transforms.ToTensor(),\n",
    "    transforms.Normalize(mean=[0.485, 0.456, 0.406], \n",
    "                         std=[0.229, 0.224, 0.225])\n",
    "])\n",
    "\n",
    "\n",
    "train_data = datasets.ImageFolder(root='D:/nature_12K/inaturalist_12K/train', transform=Transfrm)\n",
    "val_data = datasets.ImageFolder(root='D:/nature_12K/inaturalist_12K/val', transform=Transfrm)\n",
    "\n",
    "train_loader = DataLoader(train_data, batch_size=32, shuffle=True)\n",
    "val_loader = DataLoader(val_data, batch_size=32)\n",
    "\n",
    "\n",
    "Model = models.resnet50(pretrained=True)\n",
    "\n",
    "\n",
    "for param in Model.parameters():\n",
    "    param.requires_grad = False\n",
    "\n",
    "\n",
    "number_class = 10\n",
    "Model.fc = nn.Linear(Model.fc.in_features, number_class)\n",
    "\n",
    "\n",
    "for param in Model.fc.parameters():\n",
    "    param.requires_grad = True\n",
    "\n",
    "\n",
    "device = torch.device(\"cuda\" if torch.cuda.is_available() else \"cpu\")\n",
    "Model = Model.to(device)\n",
    "\n",
    "Critrion = nn.CrossEntropyLoss()\n",
    "optimizer = optim.Adam(Model.fc.parameters(), lr=0.001)\n",
    "\n",
    "\n",
    "num_epochs = 10\n",
    "\n",
    "for epoch in range(num_epochs):\n",
    "    Model.train()\n",
    "    total_loss, correct = 0, 0\n",
    "\n",
    "    for imgs, labels in train_loader:\n",
    "        imgs, labels = imgs.to(device), labels.to(device)\n",
    "\n",
    "        optimizer.zero_grad()\n",
    "        outputs = Model(imgs)\n",
    "        loss = Critrion(outputs, labels)\n",
    "        loss.backward()\n",
    "        optimizer.step()\n",
    "\n",
    "        total_loss += loss.item()\n",
    "        _, preds = torch.max(outputs, 1)\n",
    "        correct += (preds == labels).sum().item()\n",
    "\n",
    "    train_Acc = correct / len(train_loader.dataset)\n",
    "    print(f\"Epoch {epoch+1}/{num_epochs}, Loss: {total_loss:.4f}, Train Acc: {train_Acc:.4f}\")\n",
    "\n",
    "\n",
    "Model.eval()\n",
    "correct = 0\n",
    "with torch.no_grad():\n",
    "    for imgs, labels in val_loader:\n",
    "        imgs, labels = imgs.to(device), labels.to(device)\n",
    "        outputs = Model(imgs)\n",
    "        _, preds = torch.max(outputs, 1)\n",
    "        correct += (preds == labels).sum().item()\n",
    "\n",
    "val_accuracy = correct / len(val_loader.dataset)\n",
    "print(f\"Validation Accuracy: {val_accuracy:.4f}\")\n"
   ]
  }
 ],
 "metadata": {
  "kernelspec": {
   "display_name": "Python 3",
   "language": "python",
   "name": "python3"
  },
  "language_info": {
   "codemirror_mode": {
    "name": "ipython",
    "version": 3
   },
   "file_extension": ".py",
   "mimetype": "text/x-python",
   "name": "python",
   "nbconvert_exporter": "python",
   "pygments_lexer": "ipython3",
   "version": "3.13.1"
  }
 },
 "nbformat": 4,
 "nbformat_minor": 5
}
